{
 "cells": [
  {
   "cell_type": "code",
   "execution_count": 1,
   "metadata": {},
   "outputs": [],
   "source": [
    "import tweepy\n",
    "\n",
    "from dotenv import load_dotenv\n",
    "load_dotenv()\n",
    "\n",
    "import os\n",
    "\n",
    "\n",
    "## Environment variable pass from .env file\n",
    "ENV_MY_BEARER_TOKEN = os.getenv(\"MY_BEARER_TOKEN\")\n",
    "\n",
    "ENV_CONSUMER_KEY = os.getenv(\"CONSUMER_KEY\")\n",
    "ENV_CONSUMER_SECRET = os.getenv(\"CONSUMER_SECRET\")\n",
    "\n",
    "ENV_ACCESS_TOKEN = os.getenv(\"ACCESS_TOKEN\")\n",
    "ENV_ACCESS_TOKEN_SECRET = os.getenv(\"ACCESS_TOKEN_SECRET\")\n",
    "\n",
    "# authorization of consumer key and consumer secret\n",
    "auth = tweepy.OAuthHandler(ENV_CONSUMER_KEY, ENV_CONSUMER_SECRET)\n",
    " \n",
    "# set access to user's access key and access secret\n",
    "auth.set_access_token(ENV_ACCESS_TOKEN, ENV_ACCESS_TOKEN_SECRET)\n",
    "\n",
    "\n",
    "## Authenticate to twitter API with credentials\n",
    "client = tweepy.Client(\n",
    "    bearer_token=ENV_MY_BEARER_TOKEN,\n",
    "    consumer_key=ENV_CONSUMER_KEY,\n",
    "    consumer_secret=ENV_CONSUMER_SECRET,\n",
    "    access_token=ENV_ACCESS_TOKEN,\n",
    "    access_token_secret=ENV_ACCESS_TOKEN_SECRET,\n",
    "    wait_on_rate_limit=True\n",
    ")\n"
   ]
  },
  {
   "cell_type": "code",
   "execution_count": 2,
   "metadata": {},
   "outputs": [
    {
     "name": "stdout",
     "output_type": "stream",
     "text": [
      "492\n",
      "291\n"
     ]
    },
    {
     "data": {
      "text/plain": [
       "{'location': 'Bushnell, FL',\n",
       " 'verified': False,\n",
       " 'description': 'Collector -\\nWeb Content Coordinator for @dpciwholesale',\n",
       " 'id': 1400837290273001474,\n",
       " 'name': 'David Rennells',\n",
       " 'username': 'DavidRennells'}"
      ]
     },
     "execution_count": 2,
     "metadata": {},
     "output_type": "execute_result"
    }
   ],
   "source": [
    "\n",
    "#search_query = \"#covid19 -in:retweets has:geo\"\n",
    "\n",
    "# query to search for tweets\n",
    "query = '(#covid19 OR #virus OR #coronavirus OR #sick OR #disease OR #cure) lang:en (place_country:US \"and\" (place:Florida OR place:\"Panama city\" OR place:Tallahassee OR place:Jacksonville OR place:Georgia OR place:Alabama))'\n",
    "#query = '(place_country:US)'\n",
    "\n",
    "# Your start and end time for fetching tweets from January 1, 2020 to October 1, 2022\n",
    "start_time = \"2020-01-01T01:01:59Z\"\n",
    "end_time = \"2022-10-01T23:59:59Z\"\n",
    "\n",
    "\n",
    "# get tweets from the API\n",
    "tweets = client.search_all_tweets(query=query,\n",
    "                                     start_time=start_time,\n",
    "                                     end_time=end_time,\n",
    "                                     tweet_fields = [\"created_at\", \"text\", \"source\",\"geo\"],\n",
    "                                     user_fields = [\"name\", \"username\", \"location\", \"verified\", \"description\"],\n",
    "                                     max_results = 500, # The `max_results` query parameter value [5000] is not between 10 and 500\n",
    "                                     expansions = ['author_id', \"geo.place_id\"],\n",
    "                                     )\n",
    "\n",
    "# tweet specific info\n",
    "print(len(tweets.data))\n",
    "# user specific info\n",
    "print(len(tweets.includes[\"users\"]))\n",
    "\n",
    "# first tweet\n",
    "first_tweet = tweets.data[0]\n",
    "dict(first_tweet)\n",
    "\n",
    "\n",
    "## user information for the first tweet\n",
    "first_tweet_user = tweets.includes[\"users\"][0]\n",
    "#first_tweet_place = tweets.includes[\"places\"][0]\n",
    "dict(first_tweet_user)\n",
    "#dict(first_tweet_place)"
   ]
  },
  {
   "cell_type": "code",
   "execution_count": 5,
   "metadata": {},
   "outputs": [
    {
     "name": "stderr",
     "output_type": "stream",
     "text": [
      "Rate limit reached. Sleeping for: 529\n",
      "Rate limit reached. Sleeping for: 889\n",
      "Rate limit reached. Sleeping for: 888\n"
     ]
    },
    {
     "ename": "KeyboardInterrupt",
     "evalue": "",
     "output_type": "error",
     "traceback": [
      "\u001b[0;31m---------------------------------------------------------------------------\u001b[0m",
      "\u001b[0;31mKeyboardInterrupt\u001b[0m                         Traceback (most recent call last)",
      "Cell \u001b[0;32mIn [5], line 15\u001b[0m\n\u001b[1;32m     12\u001b[0m api \u001b[39m=\u001b[39m tweepy\u001b[39m.\u001b[39mAPI(auth,  wait_on_rate_limit\u001b[39m=\u001b[39m\u001b[39mTrue\u001b[39;00m)\n\u001b[1;32m     13\u001b[0m \u001b[39m#time.sleep(3)\u001b[39;00m\n\u001b[1;32m     14\u001b[0m \u001b[39m#    break\u001b[39;00m\n\u001b[0;32m---> 15\u001b[0m place \u001b[39m=\u001b[39m api\u001b[39m.\u001b[39mgeo_id(tweet\u001b[39m.\u001b[39mgeo[\u001b[39m'\u001b[39m\u001b[39mplace_id\u001b[39m\u001b[39m'\u001b[39m])\n\u001b[1;32m     17\u001b[0m tweet_info \u001b[39m=\u001b[39m {\n\u001b[1;32m     18\u001b[0m     \u001b[39m'\u001b[39m\u001b[39mtweet_id\u001b[39m\u001b[39m'\u001b[39m: tweet\u001b[39m.\u001b[39mid,\n\u001b[1;32m     19\u001b[0m     \u001b[39m'\u001b[39m\u001b[39mdate\u001b[39m\u001b[39m'\u001b[39m: tweet\u001b[39m.\u001b[39mcreated_at,\n\u001b[0;32m   (...)\u001b[0m\n\u001b[1;32m     30\u001b[0m     \u001b[39m#'description': user.description\u001b[39;00m\n\u001b[1;32m     31\u001b[0m }\n\u001b[1;32m     33\u001b[0m tweet_info_ls\u001b[39m.\u001b[39mappend(tweet_info)\n",
      "File \u001b[0;32m/opt/homebrew/lib/python3.10/site-packages/tweepy/api.py:46\u001b[0m, in \u001b[0;36mpayload.<locals>.decorator.<locals>.wrapper\u001b[0;34m(*args, **kwargs)\u001b[0m\n\u001b[1;32m     44\u001b[0m kwargs[\u001b[39m'\u001b[39m\u001b[39mpayload_list\u001b[39m\u001b[39m'\u001b[39m] \u001b[39m=\u001b[39m payload_list\n\u001b[1;32m     45\u001b[0m kwargs[\u001b[39m'\u001b[39m\u001b[39mpayload_type\u001b[39m\u001b[39m'\u001b[39m] \u001b[39m=\u001b[39m payload_type\n\u001b[0;32m---> 46\u001b[0m \u001b[39mreturn\u001b[39;00m method(\u001b[39m*\u001b[39;49margs, \u001b[39m*\u001b[39;49m\u001b[39m*\u001b[39;49mkwargs)\n",
      "File \u001b[0;32m/opt/homebrew/lib/python3.10/site-packages/tweepy/api.py:3935\u001b[0m, in \u001b[0;36mAPI.geo_id\u001b[0;34m(self, place_id, **kwargs)\u001b[0m\n\u001b[1;32m   3916\u001b[0m \u001b[39m@payload\u001b[39m(\u001b[39m'\u001b[39m\u001b[39mplace\u001b[39m\u001b[39m'\u001b[39m)\n\u001b[1;32m   3917\u001b[0m \u001b[39mdef\u001b[39;00m \u001b[39mgeo_id\u001b[39m(\u001b[39mself\u001b[39m, place_id, \u001b[39m*\u001b[39m\u001b[39m*\u001b[39mkwargs):\n\u001b[1;32m   3918\u001b[0m     \u001b[39m\"\"\"geo_id(place_id)\u001b[39;00m\n\u001b[1;32m   3919\u001b[0m \n\u001b[1;32m   3920\u001b[0m \u001b[39m    Given ``place_id``, provide more details about that place.\u001b[39;00m\n\u001b[0;32m   (...)\u001b[0m\n\u001b[1;32m   3933\u001b[0m \u001b[39m    https://developer.twitter.com/en/docs/twitter-api/v1/geo/place-information/api-reference/get-geo-id-place_id\u001b[39;00m\n\u001b[1;32m   3934\u001b[0m \u001b[39m    \"\"\"\u001b[39;00m\n\u001b[0;32m-> 3935\u001b[0m     \u001b[39mreturn\u001b[39;00m \u001b[39mself\u001b[39;49m\u001b[39m.\u001b[39;49mrequest(\u001b[39m'\u001b[39;49m\u001b[39mGET\u001b[39;49m\u001b[39m'\u001b[39;49m, \u001b[39mf\u001b[39;49m\u001b[39m'\u001b[39;49m\u001b[39mgeo/id/\u001b[39;49m\u001b[39m{\u001b[39;49;00mplace_id\u001b[39m}\u001b[39;49;00m\u001b[39m'\u001b[39;49m, \u001b[39m*\u001b[39;49m\u001b[39m*\u001b[39;49mkwargs)\n",
      "File \u001b[0;32m/opt/homebrew/lib/python3.10/site-packages/tweepy/api.py:207\u001b[0m, in \u001b[0;36mAPI.request\u001b[0;34m(self, method, endpoint, endpoint_parameters, params, headers, json_payload, parser, payload_list, payload_type, post_data, files, require_auth, return_cursors, upload_api, use_cache, **kwargs)\u001b[0m\n\u001b[1;32m    205\u001b[0m     \u001b[39mif\u001b[39;00m sleep_time \u001b[39m>\u001b[39m \u001b[39m0\u001b[39m:\n\u001b[1;32m    206\u001b[0m         log\u001b[39m.\u001b[39mwarning(\u001b[39mf\u001b[39m\u001b[39m\"\u001b[39m\u001b[39mRate limit reached. Sleeping for: \u001b[39m\u001b[39m{\u001b[39;00msleep_time\u001b[39m}\u001b[39;00m\u001b[39m\"\u001b[39m)\n\u001b[0;32m--> 207\u001b[0m         time\u001b[39m.\u001b[39;49msleep(sleep_time \u001b[39m+\u001b[39;49m \u001b[39m1\u001b[39;49m)  \u001b[39m# Sleep for extra sec\u001b[39;00m\n\u001b[1;32m    209\u001b[0m \u001b[39m# Apply authentication\u001b[39;00m\n\u001b[1;32m    210\u001b[0m auth \u001b[39m=\u001b[39m \u001b[39mNone\u001b[39;00m\n",
      "\u001b[0;31mKeyboardInterrupt\u001b[0m: "
     ]
    }
   ],
   "source": [
    "## import the pandas library\n",
    "import pandas as pd\n",
    "import time\n",
    "t_end = time.time() + 60 * 60\n",
    "# create a list of records\n",
    "tweet_info_ls = []\n",
    "\n",
    "\n",
    "    # iterate over each tweet and corresponding user details\n",
    "for tweet, user in zip(tweets.data, tweets.includes['users']):\n",
    "    #while time.time() < t_end:\n",
    "    api = tweepy.API(auth,  wait_on_rate_limit=True)\n",
    "    #time.sleep(3)\n",
    "    #    break\n",
    "    place = api.geo_id(tweet.geo['place_id'])\n",
    "    \n",
    "    tweet_info = {\n",
    "        'tweet_id': tweet.id,\n",
    "        'date': tweet.created_at,\n",
    "        'geo': tweet.geo['place_id'],\n",
    "        'bounding_box': str(place.bounding_box.coordinates),\n",
    "        'bb_centroid': str(place.centroid),\n",
    "        'coordinates': tweet.geo.get('coordinates'),\n",
    "        'location': user.location,\n",
    "        #'source': tweet.source,\n",
    "        #'text': tweet.text,\n",
    "        #'name': user.name,\n",
    "        #'username': user.username,\n",
    "        #'verified': user.verified,\n",
    "        #'description': user.description\n",
    "    }\n",
    "\n",
    "    tweet_info_ls.append(tweet_info)\n",
    "    "
   ]
  },
  {
   "cell_type": "code",
   "execution_count": 4,
   "metadata": {},
   "outputs": [
    {
     "name": "stdout",
     "output_type": "stream",
     "text": [
      "DataFrame is written to Excel File successfully.\n"
     ]
    }
   ],
   "source": [
    "# create dataframe from the extracted records\n",
    "tweets_df = pd.DataFrame(tweet_info_ls)\n",
    "\n",
    "# display all rows in dataframe\n",
    "pd.set_option('display.max_rows', None)\n",
    "\n",
    "#Remove non Florida tweets\n",
    "tweets_df = tweets_df[tweets_df['location'].str.contains(\"Fl|FL|Florida|FLORIDA|Al|AL|Alabama|ALABAMA|Ga|GA|Georgia|GEORGIA\", na = False)].reset_index(drop=True)\n",
    "\n",
    "# # # display the dataframe\n",
    "# tweets_df.head(1000000)\n",
    "\n",
    "# Output tweets to excel\n",
    "# tweets_df['date'] = tweets_df['date'].astype('datetime64[ns]')\n",
    "tweets_df['date'] = tweets_df['date'].dt.strftime('%m-%d-%Y')\n",
    "\n",
    "blankIndex=[''] * len(tweets_df)\n",
    "tweets_df.index=blankIndex\n",
    "\n",
    "tweets_df.to_excel(\"output-data-from-twitter-ap-retrieve.xlsx\")\n",
    "print('DataFrame is written to Excel File successfully.')"
   ]
  }
 ],
 "metadata": {
  "kernelspec": {
   "display_name": "Python 3.10.8 64-bit",
   "language": "python",
   "name": "python3"
  },
  "language_info": {
   "codemirror_mode": {
    "name": "ipython",
    "version": 3
   },
   "file_extension": ".py",
   "mimetype": "text/x-python",
   "name": "python",
   "nbconvert_exporter": "python",
   "pygments_lexer": "ipython3",
   "version": "3.10.8"
  },
  "orig_nbformat": 4,
  "vscode": {
   "interpreter": {
    "hash": "b0fa6594d8f4cbf19f97940f81e996739fb7646882a419484c72d19e05852a7e"
   }
  }
 },
 "nbformat": 4,
 "nbformat_minor": 2
}
